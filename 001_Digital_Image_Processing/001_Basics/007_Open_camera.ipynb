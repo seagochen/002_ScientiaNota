{
 "cells": [
  {
   "cell_type": "markdown",
   "metadata": {},
   "source": [
    "# 函数说明\n",
    "\n",
    "实现这个功能，主要依靠OpenCV的 **VideoCapture** ，它可以用于打开摄像头或者视频，如果你使用笔记本，并且带有摄像头的话，可以使用 0 打开摄像头。如果给定视频位置，则打开视频。\n",
    "\n",
    "```cpp\n",
    "VideoCapture ()\n",
    "```\n",
    "\n",
    "默认函数，通常我们不使用这个来构造VideoCapture对象。\n",
    "\n",
    "```cpp\n",
    "VideoCapture (const String &filename, int apiPreference=CAP_ANY)\n",
    "```\n",
    "用来打开视频，也可以用来打开IP摄像头。其中 **apiPreference** 可以用来强制 OpenCV 使用某种方法对数据进行解码，可以用参数包括\n",
    "* cv::CAP_FFMPEG\n",
    "* cv::CAP_IMAGES\n",
    "* cv::CAP_DSHOW.\n",
    "\n",
    "```cpp\n",
    "VideoCapture (int index, int apiPreference=CAP_ANY)\n",
    "```\n",
    "\n",
    "index指示的是打开什么视频设备，通常我们令index为0，打开默认的摄像头。\n",
    "\n",
    "\n",
    "# 使用Python打开摄像头或者视频"
   ]
  },
  {
   "cell_type": "code",
   "execution_count": null,
   "metadata": {},
   "outputs": [],
   "source": [
    "import cv2\n",
    "\n",
    "video = cv2.VideoCapture(0)\n",
    "\n",
    "while video.isOpened():\n",
    "    success, frame = video.read()\n",
    "    \n",
    "    if success and cv2.waitKey(1) & 0xFF != ord('q'):\n",
    "        cv2.imshow('frame', frame)\n",
    "    else:\n",
    "        break\n",
    "        \n",
    "cv2.destroyAllWindows()\n",
    "video.release()"
   ]
  },
  {
   "cell_type": "markdown",
   "metadata": {},
   "source": [
    "# 使用C++打开摄像头或者视频\n",
    "\n",
    "~~~cpp\n",
    "#include <opencv2/opencv.hpp>\n",
    "#include <iostream>\n",
    "#include <vector>\n",
    "\n",
    "int main() {\n",
    "    cv::VideoCapture video(\"sample.mp4\");\n",
    "    cv::namedWindow(\"frame\");\n",
    "\n",
    "    cv::Mat frame;\n",
    "    while(video.isOpened()) {\n",
    "        bool success = video.read(frame);\n",
    "\n",
    "        if (success && cv::waitKey(1) != 'q') {\n",
    "            cv::imshow(\"frame\", frame);\n",
    "        } else {\n",
    "            break;\n",
    "        }\n",
    "    }\n",
    "\n",
    "\n",
    "    cv::destroyAllWindows();\n",
    "    video.release();\n",
    "\n",
    "    return -1;\n",
    "}\n",
    "~~~"
   ]
  }
 ],
 "metadata": {
  "kernelspec": {
   "display_name": "note_ai",
   "language": "python",
   "name": "python3"
  },
  "language_info": {
   "name": "python",
   "version": "3.10.15"
  }
 },
 "nbformat": 4,
 "nbformat_minor": 2
}
