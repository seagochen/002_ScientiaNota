{
 "cells": [
  {
   "cell_type": "markdown",
   "metadata": {},
   "source": [
    "# 理想滤波器 (Ideal Filter)\n",
    "\n",
    "类似于二极管的作用，只放走设定域值内的频率，而域值外的频率一律设置为0\n",
    "\n",
    "$$\n",
    "f(x) = \\left\\{\\begin{matrix}\n",
    "g(x) & a < x \\leq b \\\\\n",
    "0 & else \\\\\n",
    "\\end{matrix}\\right.\n",
    "$$\n",
    "\n",
    "而在设代码结构上与椒盐噪音的方式是相似的，其实现代码大概是这样的："
   ]
  },
  {
   "cell_type": "code",
   "execution_count": null,
   "metadata": {},
   "outputs": [],
   "source": [
    "import numpy as np\n",
    "\n",
    "def generate_ideal_mask(rows, cols, alpha, beta=0):\n",
    "    \"\"\"\n",
    "\n",
    "    :param rows: rows of spectrum\n",
    "    :param cols: columns of spectrum\n",
    "    :param alpha: the frequency upper limit\n",
    "    :param beta: the frequency lower limit\n",
    "    :return:\n",
    "    \"\"\"\n",
    "    output = np.zeros((rows, cols), np.float32)\n",
    "\n",
    "    # center coordinate\n",
    "    cr = rows / 2\n",
    "    cc = cols / 2\n",
    "\n",
    "    for r in range(rows):\n",
    "        for c in range(cols):\n",
    "            distance = np.sqrt((r - cr) ** 2 + (c - cc) ** 2)\n",
    "            if alpha > distance >= beta:\n",
    "                output[r, c] = 1.\n",
    "            else:\n",
    "                output[r, c] = 0.\n",
    "\n",
    "    return output"
   ]
  },
  {
   "cell_type": "markdown",
   "metadata": {},
   "source": [
    "而输出结果如下：\n",
    "\n",
    "# Butterworth 滤波器\n",
    "\n",
    "其数学解析式如下：\n",
    "\n",
    "$$\n",
    "f(x) = \\frac{1}{1 +[\\frac{D(u,v)}{D_o}]^{2n}}\n",
    "$$\n",
    "\n",
    "代码的实现方式大体如下：\n"
   ]
  },
  {
   "cell_type": "code",
   "execution_count": null,
   "metadata": {},
   "outputs": [],
   "source": [
    "def generate_butterworth_mask(rows, cols, n, d, flip=False):\n",
    "    \"\"\"\n",
    "\n",
    "    :param rows: rows of spectrum\n",
    "    :param cols: columns of spectrum\n",
    "    :param n: the filter adjustment factor\n",
    "    :param d: the d0\n",
    "    :return:\n",
    "    \"\"\"\n",
    "    output = np.zeros((rows, cols), np.float32)\n",
    "\n",
    "    # center coordinate\n",
    "    cr = rows / 2\n",
    "    cc = cols / 2\n",
    "\n",
    "    for r in range(rows):\n",
    "        for c in range(cols):\n",
    "            distance = np.sqrt((r - cr) ** 2 + (c - cc) ** 2)\n",
    "\n",
    "            frac = (distance / d) ** (2 * n)\n",
    "            output[r, c] = 1 / (1 + frac)\n",
    "\n",
    "    if flip:\n",
    "        output = 1 - output\n",
    "\n",
    "    return output\n"
   ]
  }
 ],
 "metadata": {
  "language_info": {
   "name": "python"
  }
 },
 "nbformat": 4,
 "nbformat_minor": 2
}
