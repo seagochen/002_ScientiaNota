{
 "cells": [
  {
   "cell_type": "markdown",
   "metadata": {},
   "source": [
    "- [数字转模拟（DAC）](#数字转模拟dac)\n",
    "  - [一个简单的数字转模拟方案](#一个简单的数字转模拟方案)\n",
    "- [模拟转数字（ADC）](#模拟转数字adc)\n",
    "\n",
    "\n",
    "#  数字转模拟（DAC）\n",
    "\n",
    "通常来说，我们在设备上存储的数据是以二进制进行传输的，但是当我们试图将数据传输到更远的地方时，或者通过一些其他介质，例如WI-FI、蓝牙，同轴电缆、或者其他无线电信号进行远距离传输的时候，我们就需要把数据转化为模拟信号进行传输。\n",
    "\n",
    "常见的数模转换，例如对于一个8bit的数据来说，我们可以通过把电势划分成8个不同的等级来代表每一个位，如果一个位为1，那么对应的电势就会被调高，而如果为0，则对应的电势会被调低。\n",
    "\n",
    "## 一个简单的数字转模拟方案\n",
    "\n",
    "数模转换最常见的方案是通过数模转换芯片来完成信号的转换。比方说德仪的PCM1808就是这样一款数模转换芯片。\n",
    "\n",
    "![在这里插入图片描述](./res/PCM1808.png#pic_center)\n",
    "通过6，7，8，9引脚分别输入数字信号和时钟输入，就可以在13和14引脚得到其对应的模拟信号。一般来说，其实现数模转换通过类似电压串联来实现。就像下面这样的示例\n",
    "\n",
    "![在这里插入图片描述](./res/dac説明.jpg#pic_center)\n",
    "\n",
    "所以，我们可以根据这样的原理，写出它对应的数学表达式，例如对于4位的DAC，就可以表示如下：\n",
    "\n",
    "$$\n",
    " V_{out} = b_3 \\times V_{ref} \\times \\frac{8}{16} + b_2 \\times V_{ref} \\times \\frac{4}{16} + b_1 \\times V_{ref} \\times \\frac{2}{16} + b_0 \\times V_{ref} \\times \\frac{1}{16} \n",
    "$$\n",
    "\n",
    "\n",
    "所以自然的，可以得到一个简单的数模转换代码"
   ]
  },
  {
   "cell_type": "code",
   "execution_count": 1,
   "metadata": {},
   "outputs": [
    {
     "name": "stdout",
     "output_type": "stream",
     "text": [
      "For binary input 1010, the DAC output voltage is: 3.12 V\n",
      "For binary input 0101, the DAC output voltage is: 1.56 V\n",
      "For binary input 1111, the DAC output voltage is: 4.69 V\n",
      "For binary input 0000, the DAC output voltage is: 0.00 V\n"
     ]
    }
   ],
   "source": [
    "def dac_output(binary_input, V_ref):\n",
    "    \"\"\"\n",
    "    Calculate the output of a 4-bit DAC for a given binary input.\n",
    "\n",
    "    :param binary_input: A string of 4 bits, e.g., \"1010\".\n",
    "    :param V_ref: Reference voltage of the DAC.\n",
    "    :return: Analog output voltage.\n",
    "    \"\"\"\n",
    "    if len(binary_input) != 4 or not set(binary_input).issubset({\"0\", \"1\"}):\n",
    "        raise ValueError(\"binary_input must be a 4-bit binary string.\")\n",
    "\n",
    "    # Mapping each bit to its weighted value\n",
    "    weights = [8/16, 4/16, 2/16, 1/16]\n",
    "\n",
    "    V_out = sum(int(bit) * weight * V_ref for bit, weight in zip(binary_input, weights))\n",
    "    return V_out\n",
    "\n",
    "\n",
    "# Example:\n",
    "binary_input = [\"1010\", \"0101\", \"1111\", \"0000\"]\n",
    "V_ref = 5.0  # Let's assume the reference voltage is 5 volts.\n",
    "for b_input in binary_input:\n",
    "    output_voltage = dac_output(b_input, V_ref)\n",
    "    print(f\"For binary input {b_input}, the DAC output voltage is: {output_voltage:.2f} V\")\n"
   ]
  },
  {
   "cell_type": "markdown",
   "metadata": {},
   "source": [
    "# 模拟转数字（ADC） \n",
    "\n",
    "有DAC自然就有ADC，我们自然可以得到这样的简易数学表达式\n",
    "\n",
    "$$\n",
    "\\Delta V = \\frac{V_{ref}}{2^4} \n",
    "$$\n",
    "\n",
    "这样，我们就可以得到如下的代码"
   ]
  },
  {
   "cell_type": "code",
   "execution_count": 2,
   "metadata": {},
   "outputs": [
    {
     "name": "stdout",
     "output_type": "stream",
     "text": [
      "For input voltage 3.12 V, the ADC output is: 1010\n",
      "For input voltage 1.56 V, the ADC output is: 0101\n",
      "For input voltage 4.69 V, the ADC output is: 1111\n",
      "For input voltage 0.0 V, the ADC output is: 0000\n"
     ]
    }
   ],
   "source": [
    "def adc_output(V_in, V_ref):\n",
    "    \"\"\"\n",
    "    Calculate the output of a 4-bit ADC for a given analog input voltage.\n",
    "\n",
    "    :param V_in: Input analog voltage.\n",
    "    :param V_ref: Reference voltage of the ADC.\n",
    "    :return: 4-bit binary string representation.\n",
    "    \"\"\"\n",
    "    if V_in > V_ref:\n",
    "        raise ValueError(\"Input voltage exceeds reference voltage.\")\n",
    "    \n",
    "    quantization_levels = 2**4\n",
    "    delta_V = V_ref / quantization_levels\n",
    "    \n",
    "    digital_value = round(V_in / delta_V)  # Use rounding here\n",
    "    binary_output = format(digital_value, '04b')  # Convert to 4-bit binary string\n",
    "    \n",
    "    return binary_output\n",
    "\n",
    "\n",
    "# Example:\n",
    "V_in = [3.12, 1.56, 4.69, 0.00]\n",
    "V_ref = 5.0  # Reference voltage, same as before\n",
    "\n",
    "for v in V_in:\n",
    "    binary_output = adc_output(v, V_ref)\n",
    "    print(f\"For input voltage {v} V, the ADC output is: {binary_output}\")\n"
   ]
  }
 ],
 "metadata": {
  "kernelspec": {
   "display_name": "note_ai",
   "language": "python",
   "name": "python3"
  },
  "language_info": {
   "codemirror_mode": {
    "name": "ipython",
    "version": 3
   },
   "file_extension": ".py",
   "mimetype": "text/x-python",
   "name": "python",
   "nbconvert_exporter": "python",
   "pygments_lexer": "ipython3",
   "version": "3.10.15"
  }
 },
 "nbformat": 4,
 "nbformat_minor": 2
}
