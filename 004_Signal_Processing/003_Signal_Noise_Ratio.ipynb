{
 "cells": [
  {
   "cell_type": "markdown",
   "metadata": {
    "vscode": {
     "languageId": "plaintext"
    }
   },
   "source": [
    "- [基本定义](#基本定义)\n",
    "- [示例代码](#示例代码)\n",
    "\n",
    "\n",
    "# 基本定义\n",
    "\n",
    "信噪比（Signal-to-Noise Ratio，缩写为 SNR）是衡量信号与噪声强度比值的指标。它可以用来表示信号在噪声干扰下的传输质量。通常情况下，信噪比越大，信号质量就越好。\n",
    "\n",
    "信噪比可以应用于各种不同的领域，包括通信、信号处理、信息论等。在通信领域中，信噪比可以用来表示信号在通过通信链路时的质量。在信号处理领域中，信噪比可以用来表示信号在进行信号处理操作时的质量。在信息论领域中，信噪比可以用来表示信息在噪声干扰下的传输效率。\n",
    "\n",
    "信噪比的公式通常为：\n",
    "\n",
    "SNR = 信号强度 / 噪声强度\n",
    "\n",
    "信噪比的单位通常为分贝（dB）。\n",
    "\n",
    "例如，如果信号强度为 1 瓦，噪声强度为 0.1 瓦，那么信噪比就是 10 dB。如果信号强度为 1 瓦，噪声强度为 0.01 瓦，那么信噪比就是 20 dB\n",
    "\n",
    "# 示例代码\n",
    "\n",
    "现在我们以一个简单的代码来看看SNR是怎么计算的。"
   ]
  },
  {
   "cell_type": "code",
   "execution_count": 2,
   "metadata": {},
   "outputs": [
    {
     "name": "stdout",
     "output_type": "stream",
     "text": [
      "Calculated SNR: 9.999999999999998 dB\n"
     ]
    }
   ],
   "source": [
    "import numpy as np\n",
    "\n",
    "def signal_to_noise_ratio(signal, noise):\n",
    "    # 计算信号强度和噪声强度的平方和\n",
    "    signal_power = np.sum(signal**2)\n",
    "    noise_power = np.sum(noise**2)\n",
    "\n",
    "    # 计算信噪比\n",
    "    snr = 10 * np.log10(signal_power / noise_power)\n",
    "\n",
    "    return snr\n",
    "\n",
    "# 示例：计算信号强度为 1 瓦，噪声强度接近 0.1 瓦时的信噪比\n",
    "signal = np.ones(100)  # 假设信号为 1W 的恒定信号\n",
    "desired_noise_power = 0.1  # 期望的噪声功率为 0.1W\n",
    "\n",
    "# 生成标准正态噪声，并将其缩放到期望的噪声功率\n",
    "noise = np.random.randn(100)\n",
    "noise = noise * np.sqrt(desired_noise_power / np.mean(noise**2))\n",
    "\n",
    "snr = signal_to_noise_ratio(signal, noise)\n",
    "print(f\"Calculated SNR: {snr} dB\")"
   ]
  },
  {
   "cell_type": "markdown",
   "metadata": {},
   "source": [
    "在上述代码中，我们首先使用 Numpy 库中的 sum 函数计算信号和噪声的平方和。然后，我们使用 Numpy 库中的 log10 函数计算信号强度和噪声强度的比值的以 10 为底的对数。最后，我们将结果乘以 10，以得到信噪比的值，并将其以 dB 为单位输出。\n",
    "\n",
    "在这个示例中，我们假设信号强度为 1 瓦，噪声强度为 0.1 瓦。运行上述代码后，输出的信噪比应该约为 10 dB。"
   ]
  }
 ],
 "metadata": {
  "kernelspec": {
   "display_name": "note_ai",
   "language": "python",
   "name": "python3"
  },
  "language_info": {
   "codemirror_mode": {
    "name": "ipython",
    "version": 3
   },
   "file_extension": ".py",
   "mimetype": "text/x-python",
   "name": "python",
   "nbconvert_exporter": "python",
   "pygments_lexer": "ipython3",
   "version": "3.10.15"
  }
 },
 "nbformat": 4,
 "nbformat_minor": 2
}
