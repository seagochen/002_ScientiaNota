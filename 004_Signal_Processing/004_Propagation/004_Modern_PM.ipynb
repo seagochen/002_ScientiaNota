{
 "cells": [
  {
   "cell_type": "markdown",
   "metadata": {},
   "source": [
    "### 3. 调相（PM - Phase Modulation）\n",
    "**原理**：调相是通过改变载波的**相位**来表示基带信号的信息。载波的相位随着基带信号的振幅变化而变化。调相用于许多数字通信系统，例如Wi-Fi和LTE。\n",
    "\n",
    "公式：\n",
    "$$s(t) = \\cos\\left(2 \\pi f_c t + k_p m(t)\\right)$$\n",
    "其中：\n",
    "- $k_p$是调相灵敏度常数，\n",
    "- $m(t)$是基带信号。\n",
    "\n",
    "**代码演示**："
   ]
  },
  {
   "cell_type": "code",
   "execution_count": null,
   "metadata": {},
   "outputs": [],
   "source": [
    "# 定义调相灵敏度\n",
    "kp = np.pi / 2  # 调相系数\n",
    "\n",
    "# 调相信号\n",
    "modulated_signal_pm = np.cos(2 * np.pi * fc * t + kp * message_signal)\n",
    "\n",
    "# 绘图\n",
    "plt.figure(figsize=(10, 6))\n",
    "plt.subplot(3, 1, 1)\n",
    "plt.plot(t, message_signal)\n",
    "plt.title(\"Message Signal (Baseband Signal)\")\n",
    "\n",
    "plt.subplot(3, 1, 2)\n",
    "plt.plot(t, carrier_signal)\n",
    "plt.title(\"Carrier Signal\")\n",
    "\n",
    "plt.subplot(3, 1, 3)\n",
    "plt.plot(t, modulated_signal_pm)\n",
    "plt.title(\"PM Modulated Signal\")\n",
    "\n",
    "plt.tight_layout()\n",
    "plt.show()"
   ]
  },
  {
   "cell_type": "markdown",
   "metadata": {},
   "source": [
    "### 3. 调相解调（PM Demodulation）\n",
    "**原理**：调相解调是通过检测**载波的瞬时相位变化**来还原基带信号。常用方法是差分相位检测，与FM解调类似，可以通过计算相邻采样点之间的相位差来恢复基带信号。\n",
    "\n",
    "**步骤**：\n",
    "1. 计算调制信号的相位（通常通过信号的复数形式）。\n",
    "2. 计算相位的差分，从而获得基带信号。\n",
    "\n",
    "**代码演示**："
   ]
  },
  {
   "cell_type": "code",
   "execution_count": null,
   "metadata": {},
   "outputs": [],
   "source": [
    "# PM调制信号生成（参考上面的PM调制代码）\n",
    "modulated_signal_pm = np.cos(2 * np.pi * fc * t + kp * message_signal)\n",
    "\n",
    "# 差分解调\n",
    "demodulated_signal_pm = np.diff(np.unwrap(np.angle(modulated_signal_pm)))\n",
    "\n",
    "# 简单低通滤波\n",
    "demodulated_signal_pm = np.convolve(demodulated_signal_pm, np.ones(100)/100, mode='same')\n",
    "\n",
    "# 绘图\n",
    "plt.figure(figsize=(10, 6))\n",
    "plt.subplot(2, 1, 1)\n",
    "plt.plot(t[:-1], demodulated_signal_pm)\n",
    "plt.title(\"PM Demodulated Signal (Recovered Baseband)\")\n",
    "\n",
    "plt.tight_layout()\n",
    "plt.show()"
   ]
  },
  {
   "cell_type": "markdown",
   "metadata": {},
   "source": [
    "### 总结\n",
    "- **AM**：通过改变幅度来调制。\n",
    "- **FM**：通过改变频率来调制。\n",
    "- **PM**：通过改变相位来调制。\n",
    "\n",
    "不同的调制方式在不同的应用中各有优势，根据传输距离、带宽需求和抗干扰能力来选择合适的方式。\n",
    "\n",
    "\n",
    "- **AM解调**：通过包络检波（整流 + 低通滤波）来恢复基带信号。\n",
    "- **FM解调**：通过差分相位检测来提取频率变化，再通过低通滤波提取基带信号。\n",
    "- **PM解调**：同样利用相位差分来还原基带信号，适用于相位调制的信号。\n",
    "\n",
    "这些解调方法各有优势，根据信号类型和需求选择合适的解调方案。"
   ]
  }
 ],
 "metadata": {
  "language_info": {
   "name": "python"
  }
 },
 "nbformat": 4,
 "nbformat_minor": 2
}
